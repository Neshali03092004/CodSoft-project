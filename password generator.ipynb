{
 "cells": [
  {
   "cell_type": "code",
   "execution_count": 1,
   "id": "4b8b6776",
   "metadata": {},
   "outputs": [
    {
     "name": "stdout",
     "output_type": "stream",
     "text": [
      "Welcome to the Password Generator!\n",
      "Enter the desired length of the password: 15\n",
      "Include lowercase letters? (yes/no): yes\n",
      "Include uppercase letters? (yes/no): no\n",
      "Include digits? (yes/no): yes\n",
      "Include special characters? (yes/no): no\n",
      "Generated Password: 5eo8q7n92dk4td1\n"
     ]
    }
   ],
   "source": [
    "import random\n",
    "import string\n",
    "\n",
    "def generate_password(length, options):\n",
    "    characters = ''\n",
    "    characters += string.ascii_lowercase if options['lowercase'] else ''\n",
    "    characters += string.ascii_uppercase if options['uppercase'] else ''\n",
    "    characters += string.digits if options['digits'] else ''\n",
    "    characters += string.punctuation if options['special'] else ''\n",
    "    if not characters:\n",
    "        return \"Error: No character types selected.\"\n",
    "    password = ''.join(random.choice(characters) for i in range(length))\n",
    "    return password\n",
    "\n",
    "def main():\n",
    "    print(\"Welcome to the Password Generator!\")\n",
    "    \n",
    "    try:\n",
    "        length = int(input(\"Enter the desired length of the password: \"))\n",
    "        if length < 1:\n",
    "            print(\"Please enter a length greater than 0.\")\n",
    "            return\n",
    "        use_lowercase = input(\"Include lowercase letters? (yes/no): \").lower().startswith('y')\n",
    "        use_uppercase = input(\"Include uppercase letters? (yes/no): \").lower().startswith('y')\n",
    "        use_digits = input(\"Include digits? (yes/no): \").lower().startswith('y')\n",
    "        use_special = input(\"Include special characters? (yes/no): \").lower().startswith('y')\n",
    "\n",
    "        options = {\n",
    "            'lowercase': use_lowercase,\n",
    "            'uppercase': use_uppercase,\n",
    "            'digits': use_digits,\n",
    "            'special': use_special\n",
    "        }\n",
    "\n",
    "        \n",
    "        password = generate_password(length, options)\n",
    "        print(\"Generated Password:\", password)\n",
    "    except ValueError:\n",
    "        print(\"Please enter a valid number.\")\n",
    "\n",
    "if __name__ == \"__main__\":\n",
    "    main()\n"
   ]
  },
  {
   "cell_type": "code",
   "execution_count": null,
   "id": "b1f8b1c8",
   "metadata": {},
   "outputs": [],
   "source": []
  }
 ],
 "metadata": {
  "kernelspec": {
   "display_name": "Python 3 (ipykernel)",
   "language": "python",
   "name": "python3"
  },
  "language_info": {
   "codemirror_mode": {
    "name": "ipython",
    "version": 3
   },
   "file_extension": ".py",
   "mimetype": "text/x-python",
   "name": "python",
   "nbconvert_exporter": "python",
   "pygments_lexer": "ipython3",
   "version": "3.11.5"
  }
 },
 "nbformat": 4,
 "nbformat_minor": 5
}
