{
 "cells": [
  {
   "cell_type": "code",
   "execution_count": 1,
   "id": "3cf53c31",
   "metadata": {},
   "outputs": [
    {
     "name": "stdout",
     "output_type": "stream",
     "text": [
      "Enter your choice (rock, paper, scissors): rock\n",
      "\n",
      "You chose rock.\n",
      "The computer chose rock.\n",
      "It's a tie.\n",
      "Score: You 0, Computer 0\n",
      "\n",
      "Do you want to play another round? (yes/no): yes\n",
      "Enter your choice (rock, paper, scissors): paper\n",
      "\n",
      "You chose paper.\n",
      "The computer chose scissors.\n",
      "You lose.\n",
      "Score: You 0, Computer 1\n",
      "\n",
      "Do you want to play another round? (yes/no): no\n",
      "Thanks for playing!\n"
     ]
    }
   ],
   "source": [
    "import random\n",
    "\n",
    "def get_computer_choice():\n",
    "    return random.choice(['rock', 'paper', 'scissors'])\n",
    "\n",
    "def get_user_choice():\n",
    "    choice = input(\"Enter your choice (rock, paper, scissors): \").lower()\n",
    "    while choice not in ['rock', 'paper', 'scissors']:\n",
    "        print(\"Invalid choice. Please choose rock, paper, or scissors.\")\n",
    "        choice = input(\"Enter your choice (rock, paper, scissors): \").lower()\n",
    "    return choice\n",
    "\n",
    "def determine_winner(user_choice, computer_choice):\n",
    "    if user_choice == computer_choice:\n",
    "        return 'tie'\n",
    "    elif (user_choice == 'rock' and computer_choice == 'scissors') or \\\n",
    "         (user_choice == 'scissors' and computer_choice == 'paper') or \\\n",
    "         (user_choice == 'paper' and computer_choice == 'rock'):\n",
    "        return 'user'\n",
    "    else:\n",
    "        return 'computer'\n",
    "\n",
    "def play_game():\n",
    "    user_score = 0\n",
    "    computer_score = 0\n",
    "    play_again = 'yes'\n",
    "    \n",
    "    while play_again == 'yes':\n",
    "        user_choice = get_user_choice()\n",
    "        computer_choice = get_computer_choice()\n",
    "        \n",
    "        print(f\"\\nYou chose {user_choice}.\")\n",
    "        print(f\"The computer chose {computer_choice}.\")\n",
    "        \n",
    "        winner = determine_winner(user_choice, computer_choice)\n",
    "        if winner == 'user':\n",
    "            print(\"You win!\")\n",
    "            user_score += 1\n",
    "        elif winner == 'computer':\n",
    "            print(\"You lose.\")\n",
    "            computer_score += 1\n",
    "        else:\n",
    "            print(\"It's a tie.\")\n",
    "        \n",
    "        print(f\"Score: You {user_score}, Computer {computer_score}\\n\")\n",
    "        \n",
    "        play_again = input(\"Do you want to play another round? (yes/no): \").lower()\n",
    "        while play_again not in ['yes', 'no']:\n",
    "            print(\"Invalid input. Please enter 'yes' or 'no'.\")\n",
    "            play_again = input(\"Do you want to play another round? (yes/no): \").lower()\n",
    "\n",
    "    print(\"Thanks for playing!\")\n",
    "\n",
    "if __name__ == \"__main__\":\n",
    "    play_game()\n"
   ]
  },
  {
   "cell_type": "code",
   "execution_count": null,
   "id": "e97eb906",
   "metadata": {},
   "outputs": [],
   "source": []
  }
 ],
 "metadata": {
  "kernelspec": {
   "display_name": "Python 3 (ipykernel)",
   "language": "python",
   "name": "python3"
  },
  "language_info": {
   "codemirror_mode": {
    "name": "ipython",
    "version": 3
   },
   "file_extension": ".py",
   "mimetype": "text/x-python",
   "name": "python",
   "nbconvert_exporter": "python",
   "pygments_lexer": "ipython3",
   "version": "3.11.5"
  }
 },
 "nbformat": 4,
 "nbformat_minor": 5
}
